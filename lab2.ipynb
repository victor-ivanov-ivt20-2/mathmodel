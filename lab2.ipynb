{
 "cells": [
  {
   "cell_type": "code",
   "execution_count": 25,
   "metadata": {},
   "outputs": [],
   "source": [
    "import numpy as np\n",
    "import matplotlib.pyplot as plt"
   ]
  },
  {
   "cell_type": "code",
   "execution_count": 26,
   "metadata": {},
   "outputs": [
    {
     "data": {
      "text/plain": [
       "array([[0.73407873, 0.83977268, 0.14132513, 0.83702501, 0.91141854,\n",
       "        0.88259675, 0.34136723, 0.1286139 , 0.63701575, 0.06869007],\n",
       "       [0.52741317, 0.28457731, 0.32333736, 0.09291651, 0.95922651,\n",
       "        0.89842506, 0.46726814, 0.73893887, 0.25495995, 0.30168301],\n",
       "       [0.0427571 , 0.33855348, 0.69057462, 0.91126118, 0.46516823,\n",
       "        0.50023549, 0.74964503, 0.70606955, 0.0057407 , 0.45681739],\n",
       "       [0.4645717 , 0.52927681, 0.60030171, 0.95950607, 0.60151577,\n",
       "        0.50409409, 0.28485485, 0.98827324, 0.47634519, 0.76056092],\n",
       "       [0.04994862, 0.06561658, 0.23502517, 0.62199858, 0.85185423,\n",
       "        0.17613304, 0.1854524 , 0.86105582, 0.80771271, 0.12941153],\n",
       "       [0.14206362, 0.38021362, 0.16449893, 0.37454699, 0.98473756,\n",
       "        0.73061353, 0.8609555 , 0.11070514, 0.5535893 , 0.65738052],\n",
       "       [0.05415067, 0.70204304, 0.72086604, 0.34625525, 0.8840906 ,\n",
       "        0.80309832, 0.73465944, 0.81035131, 0.6822882 , 0.41986602],\n",
       "       [0.91862227, 0.80949862, 0.81604816, 0.48474207, 0.08002282,\n",
       "        0.38550315, 0.29532826, 0.40408396, 0.99763797, 0.67086074],\n",
       "       [0.81769704, 0.23754459, 0.42892276, 0.1707209 , 0.92555845,\n",
       "        0.78698279, 0.47578698, 0.39226126, 0.63071494, 0.52627687],\n",
       "       [0.51042284, 0.30401131, 0.54775405, 0.02239457, 0.91737774,\n",
       "        0.65474618, 0.84615069, 0.29998406, 0.84380977, 0.68526745]])"
      ]
     },
     "execution_count": 26,
     "metadata": {},
     "output_type": "execute_result"
    }
   ],
   "source": [
    "m = 10\n",
    "matrix = np.random.rand(m, m)\n",
    "matrix"
   ]
  },
  {
   "cell_type": "code",
   "execution_count": 27,
   "metadata": {},
   "outputs": [
    {
     "data": {
      "text/plain": [
       "0.007012079394431562"
      ]
     },
     "execution_count": 27,
     "metadata": {},
     "output_type": "execute_result"
    }
   ],
   "source": [
    "np.linalg.det(matrix)"
   ]
  },
  {
   "cell_type": "code",
   "execution_count": 28,
   "metadata": {},
   "outputs": [
    {
     "data": {
      "text/plain": [
       "array([[  0.99159976,   1.48072343,   0.18187499,   0.57274681,\n",
       "         -0.15969891,  -1.47955893,  -1.92626283,  -0.04836261,\n",
       "         -2.37832162,   2.99541148],\n",
       "       [  2.13856511,   0.49984246,  -1.24900091,   2.86159001,\n",
       "         -1.46882753,  -2.64011697,  -0.14589014,  -1.65059854,\n",
       "         -4.75402567,   5.38857367],\n",
       "       [  0.54730095,  -3.59832094,   0.25446608,   1.12195611,\n",
       "         -1.1459773 ,  -2.80934652,   2.25594947,  -2.08727142,\n",
       "          3.13273176,   1.28110222],\n",
       "       [ -0.19470427,  -0.68952748,   0.82686358,  -0.72224074,\n",
       "          0.59302228,   1.04058645,  -0.16295957,   0.52474842,\n",
       "          1.50653237,  -2.10763675],\n",
       "       [  2.39071904,  -2.07919177,  -1.13504036,   3.76217633,\n",
       "         -1.47056014,  -4.17505867,   0.4504828 ,  -3.97123649,\n",
       "         -1.63684187,   6.4084847 ],\n",
       "       [ -2.97462083,   0.0990775 ,   0.86375882,  -4.26008008,\n",
       "          1.18185125,   5.20879076,   1.81373355,   3.24118949,\n",
       "          6.5791252 , -10.15012275],\n",
       "       [  0.12546854,   2.91211897,   1.19032869,  -1.47178733,\n",
       "          0.74938888,   0.62508749,  -2.27323592,   1.38139075,\n",
       "         -3.94069961,   1.87109234],\n",
       "       [ -0.56714141,   2.74172381,   0.08579804,  -0.45922235,\n",
       "          0.85938614,   0.62687608,  -1.09253063,   1.23601639,\n",
       "         -2.36415638,  -0.18633618],\n",
       "       [ -1.44437067,   0.13834751,   0.15385867,  -2.49956602,\n",
       "          1.56464976,   2.65178093,   0.38840865,   2.24700943,\n",
       "          2.0882829 ,  -4.12535878],\n",
       "       [ -0.60492843,  -0.7035013 ,  -0.81438246,   1.56074148,\n",
       "         -0.72151523,   0.78575721,   0.17249563,  -0.37457653,\n",
       "          0.56180864,  -0.14768   ]])"
      ]
     },
     "execution_count": 28,
     "metadata": {},
     "output_type": "execute_result"
    }
   ],
   "source": [
    "inv_matrix = np.linalg.inv(matrix)\n",
    "inv_matrix"
   ]
  },
  {
   "cell_type": "code",
   "execution_count": 29,
   "metadata": {},
   "outputs": [
    {
     "data": {
      "text/plain": [
       "array([ 0.23015156, -1.01988851, -1.04740958,  0.6146843 , -1.45606643,\n",
       "        1.6027029 ,  1.16915281,  0.8804135 ,  1.16304239, -0.28578099])"
      ]
     },
     "execution_count": 29,
     "metadata": {},
     "output_type": "execute_result"
    }
   ],
   "source": [
    "b = []\n",
    "for i in range(m):\n",
    "    b.append(1)\n",
    "np.dot(inv_matrix, b)"
   ]
  },
  {
   "cell_type": "code",
   "execution_count": 30,
   "metadata": {},
   "outputs": [
    {
     "data": {
      "text/plain": [
       "array([ 0.23015156, -1.01988851, -1.04740958,  0.6146843 , -1.45606643,\n",
       "        1.6027029 ,  1.16915281,  0.8804135 ,  1.16304239, -0.28578099])"
      ]
     },
     "execution_count": 30,
     "metadata": {},
     "output_type": "execute_result"
    }
   ],
   "source": [
    "result = np.linalg.solve(matrix, b)\n",
    "result"
   ]
  },
  {
   "cell_type": "code",
   "execution_count": 31,
   "metadata": {},
   "outputs": [
    {
     "data": {
      "text/plain": [
       "array([1., 1., 1., 1., 1., 1., 1., 1., 1., 1.])"
      ]
     },
     "execution_count": 31,
     "metadata": {},
     "output_type": "execute_result"
    }
   ],
   "source": [
    "np.dot(matrix, result)"
   ]
  },
  {
   "cell_type": "code",
   "execution_count": 32,
   "metadata": {},
   "outputs": [
    {
     "data": {
      "image/png": "[encoded data removed]",
      "text/plain": [
       "<Figure size 480x480 with 1 Axes>"
      ]
     },
     "metadata": {},
     "output_type": "display_data"
    }
   ],
   "source": [
    "plt.matshow(matrix)\n",
    "plt.show()"
   ]
  }
 ],
 "metadata": {
  "kernelspec": {
   "display_name": "Python 3",
   "language": "python",
   "name": "python3"
  },
  "language_info": {
   "codemirror_mode": {
    "name": "ipython",
    "version": 3
   },
   "file_extension": ".py",
   "mimetype": "text/x-python",
   "name": "python",
   "nbconvert_exporter": "python",
   "pygments_lexer": "ipython3",
   "version": "3.10.11"
  }
 },
 "nbformat": 4,
 "nbformat_minor": 2
}
