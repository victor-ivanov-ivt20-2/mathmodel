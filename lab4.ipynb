{
 "cells": [
  {
   "cell_type": "code",
   "execution_count": 1,
   "metadata": {},
   "outputs": [],
   "source": [
    "import numpy as np\n",
    "import scipy.linalg as li"
   ]
  },
  {
   "cell_type": "markdown",
   "metadata": {},
   "source": [
    "# a)\n",
    "\n",
    "\\begin{cases}\n",
    "7x_1 + x_2 + x_3 = 7 \\\\\n",
    "x_1 + 5x_2 + 2x_3 + x_4 = 0 \\\\\n",
    "2x_1 + 3x_2 − 3x_3 + 3x_4 = −1 \\\\\n",
    "3x_1 + 4x_2 + 5x_3 + 5x_4 = −2 \n",
    "\\end{cases}"
   ]
  },
  {
   "cell_type": "code",
   "execution_count": 2,
   "metadata": {},
   "outputs": [
    {
     "data": {
      "text/plain": [
       "(array([[ 7,  1,  1,  0],\n",
       "        [ 1,  5,  2,  1],\n",
       "        [ 2,  3, -3,  3],\n",
       "        [ 3,  4,  5,  5]]),\n",
       " array([ 7,  0, -1, -2]))"
      ]
     },
     "execution_count": 2,
     "metadata": {},
     "output_type": "execute_result"
    }
   ],
   "source": [
    "a_A = np.array([[7, 1, 1, 0], [1, 5, 2, 1], [2, 3, -3, 3], [3, 4, 5, 5]])\n",
    "a_b = np.array([7, 0, -1, -2]) \n",
    "a_A, a_b"
   ]
  },
  {
   "cell_type": "code",
   "execution_count": 3,
   "metadata": {},
   "outputs": [
    {
     "name": "stdout",
     "output_type": "stream",
     "text": [
      "1)\n",
      "lu:\n",
      "[[ 7.          1.          1.          0.        ]\n",
      " [ 0.14285714  4.85714286  1.85714286  1.        ]\n",
      " [ 0.28571429  0.55882353 -4.32352941  2.44117647]\n",
      " [ 0.42857143  0.73529412 -0.7414966   6.07482993]]\n",
      "piv:\n",
      "[0 1 2 3]\n",
      "q:\n",
      "[[-0.8819171   0.38508734 -0.02724165 -0.27053254]\n",
      " [-0.12598816 -0.74659791  0.01108952 -0.65314284]\n",
      " [-0.25197632 -0.33793379 -0.80302587  0.42125781]\n",
      " [-0.37796447 -0.42438197  0.59521791  0.56811833]]\n",
      "r:\n",
      "[[-7.93725393 -3.77964473 -2.26778684 -2.77173947]\n",
      " [ 0.         -6.05923145 -2.21621695 -3.88230912]\n",
      " [ 0.          0.          5.38010458  0.57810148]\n",
      " [ 0.          0.          0.          3.45122223]]\n"
     ]
    }
   ],
   "source": [
    "lu, piv = li.lu_factor(a_A)\n",
    "q, r = li.qr(a_A)\n",
    "print(\"1)\", \"lu:\", lu, \"piv:\", piv, sep=\"\\n\")\n",
    "print(\"q:\", q, \"r:\", r, sep=\"\\n\")"
   ]
  },
  {
   "cell_type": "code",
   "execution_count": 4,
   "metadata": {},
   "outputs": [
    {
     "name": "stdout",
     "output_type": "stream",
     "text": [
      "3)\n",
      "решение lu:\n",
      "[ 1.  0. -0. -1.]\n",
      "решение qr:\n",
      "[ 1.00000000e+00  1.97230949e-16  6.19071437e-17 -1.00000000e+00]\n"
     ]
    }
   ],
   "source": [
    "x_lu = li.lu_solve((lu, piv), a_b)\n",
    "Qb = np.matmul(q.T, a_b)\n",
    "x_qr = np.linalg.solve(r,Qb)\n",
    "print(\"3)\", \"решение lu:\", x_lu, \"решение qr:\", x_qr, sep=\"\\n\")"
   ]
  },
  {
   "cell_type": "markdown",
   "metadata": {},
   "source": [
    "# b)\n",
    "\n",
    "\\begin{matrix}\n",
    "\\begin{pmatrix}\n",
    "4 & −6 & 0 & 8 & 0 & 0 \\\\\n",
    "−6 & 8 & −12 & 0 & 16 & 0 \\\\\n",
    "0 & −12 & 16 & 0 & 0 & 10 \\\\\n",
    "8 & 0 & 0 & 20 & −8 & 0 \\\\\n",
    "0 & 16 & 0 & −8 & 24 & −8 \\\\\n",
    "0 & 0 & 10 & 0 & −8 & 28\n",
    "\\end{pmatrix}\n",
    "\n",
    "\\begin{vmatrix}\n",
    "24 \\\\\n",
    "54 \\\\\n",
    "84 \\\\\n",
    "48 \\\\\n",
    "72 \\\\\n",
    "158 \n",
    "\\end{vmatrix}\n",
    "\\end{matrix}"
   ]
  },
  {
   "cell_type": "code",
   "execution_count": 5,
   "metadata": {},
   "outputs": [
    {
     "data": {
      "text/plain": [
       "(array([[  4,  -6,   0,   8,   0,   0],\n",
       "        [ -6,   8, -12,   0,  16,   0],\n",
       "        [  0, -12,  16,   0,   0,  10],\n",
       "        [  8,   0,   0,  20,  -8,   0],\n",
       "        [  0,  16,   0,  -8,  24,  -8],\n",
       "        [  0,   0,  10,   0,  -8,  28]]),\n",
       " array([ 24,  54,  84,  48,  72, 158]))"
      ]
     },
     "execution_count": 5,
     "metadata": {},
     "output_type": "execute_result"
    }
   ],
   "source": [
    "def create_second_a():\n",
    "    first = np.zeros((3, 3),dtype=int)\n",
    "    np.fill_diagonal(first, [8, 16, 10])\n",
    "    second = np.zeros((3, 3), dtype=int)\n",
    "    second_diag = np.array([-6, -12])\n",
    "    np.fill_diagonal(second, [4, 8, 16])\n",
    "    np.fill_diagonal(second[1:], second_diag)\n",
    "    np.fill_diagonal(second[:,1:], second_diag)\n",
    "    third = np.zeros((3, 3), dtype=int)\n",
    "    np.fill_diagonal(third, np.arange(20, 29, 4))\n",
    "    np.fill_diagonal(third[1:], np.array([-8, -8]))\n",
    "    np.fill_diagonal(third[:,1:], np.array([-8, -8]))\n",
    "    first_second = np.concatenate((second, first), axis=0)\n",
    "    first_third = np.concatenate((first, third), axis=0)\n",
    "    return np.concatenate((first_second, first_third), axis=1)\n",
    "\n",
    "b_A = create_second_a()\n",
    "b_b = np.array([24, 54, 84, 48, 72, 158]) \n",
    "b_A, b_b"
   ]
  },
  {
   "cell_type": "code",
   "execution_count": 6,
   "metadata": {},
   "outputs": [
    {
     "name": "stdout",
     "output_type": "stream",
     "text": [
      "1)\n",
      "lu:\n",
      "[[  8.           0.           0.          20.          -8.\n",
      "    0.        ]\n",
      " [  0.          16.           0.          -8.          24.\n",
      "   -8.        ]\n",
      " [  0.          -0.75        16.          -6.          18.\n",
      "    4.        ]\n",
      " [ -0.75         0.5         -0.75        14.5         11.5\n",
      "    7.        ]\n",
      " [  0.           0.           0.625        0.25862069 -22.22413793\n",
      "   23.68965517]\n",
      " [  0.5         -0.375        0.          -0.34482759  -0.76338247\n",
      "   17.49806051]]\n",
      "piv:\n",
      "[3 4 2 4 5 5]\n",
      "q:\n",
      "[[-0.37139068  0.16483461  0.24187004  0.09188413  0.4890747   0.7271593 ]\n",
      " [ 0.55708601 -0.20038718  0.33216819 -0.66518046  0.29190919  0.10718407]\n",
      " [-0.          0.56237692 -0.5315766  -0.25101799  0.51681686 -0.26654986]\n",
      " [-0.74278135 -0.23270769  0.12819112 -0.54482741 -0.02560546 -0.2831916 ]\n",
      " [-0.         -0.74983589 -0.47406528  0.17878328  0.42506106  0.01918031]\n",
      " [-0.         -0.         -0.55445347 -0.39658776 -0.47661594  0.55510066]]\n",
      "r:\n",
      "[[-10.77032961   6.68503217  -6.68503217 -17.82675246  14.85562705\n",
      "    0.        ]\n",
      " [  0.         -21.33800236  11.40267682   2.66321023 -19.34059469\n",
      "   11.6224563 ]\n",
      " [  0.           0.         -18.0357785    8.29130494  -2.65277684\n",
      "  -17.04794095]\n",
      " [  0.           0.           0.         -11.59174147   1.17923286\n",
      "  -15.04490356]\n",
      " [  0.           0.           0.           0.          18.88978366\n",
      "  -11.57756624]\n",
      " [  0.           0.           0.           0.           0.\n",
      "   12.72387738]]\n"
     ]
    }
   ],
   "source": [
    "lu, piv = li.lu_factor(b_A)\n",
    "q, r = li.qr(b_A)\n",
    "print(\"1)\", \"lu:\", lu, \"piv:\", piv, sep=\"\\n\")\n",
    "print(\"q:\", q, \"r:\", r, sep=\"\\n\")"
   ]
  },
  {
   "cell_type": "code",
   "execution_count": 7,
   "metadata": {},
   "outputs": [
    {
     "name": "stdout",
     "output_type": "stream",
     "text": [
      "3)\n",
      "решение lu:\n",
      "[1. 2. 3. 4. 5. 6.]\n",
      "решение qr:\n",
      "[1. 2. 3. 4. 5. 6.]\n"
     ]
    }
   ],
   "source": [
    "x_lu = li.lu_solve((lu, piv), b_b)\n",
    "Qb = np.matmul(q.T, b_b)\n",
    "x_qr = np.linalg.solve(r,Qb)\n",
    "print(\"3)\", \"решение lu:\", x_lu, \"решение qr:\", x_qr, sep=\"\\n\")"
   ]
  },
  {
   "cell_type": "markdown",
   "metadata": {},
   "source": [
    "# c)"
   ]
  },
  {
   "cell_type": "code",
   "execution_count": 8,
   "metadata": {},
   "outputs": [
    {
     "data": {
      "text/plain": [
       "(array([[ 2., -1.,  0.,  0.,  0.],\n",
       "        [-1.,  2., -1.,  0.,  0.],\n",
       "        [ 0., -1.,  2., -1.,  0.],\n",
       "        [ 0.,  0., -1.,  2., -1.],\n",
       "        [ 0.,  0.,  0., -1.,  2.]]),\n",
       " array([ 1.,  0.,  0.,  0., -1.]))"
      ]
     },
     "execution_count": 8,
     "metadata": {},
     "output_type": "execute_result"
    }
   ],
   "source": [
    "n = 5\n",
    "c_A = np.zeros((n,n))\n",
    "np.fill_diagonal(c_A, 2)    \n",
    "np.fill_diagonal(c_A[1:], -1)\n",
    "np.fill_diagonal(c_A[:,1:], -1)\n",
    "c_b = np.zeros((n))\n",
    "c_b[0] = 1\n",
    "c_b[n-1] = -1\n",
    "c_A, c_b"
   ]
  },
  {
   "cell_type": "code",
   "execution_count": 9,
   "metadata": {},
   "outputs": [
    {
     "name": "stdout",
     "output_type": "stream",
     "text": [
      "1)\n",
      "lu:\n",
      "[[ 2.         -1.          0.          0.          0.        ]\n",
      " [-0.5         1.5        -1.          0.          0.        ]\n",
      " [ 0.         -0.66666667  1.33333333 -1.          0.        ]\n",
      " [ 0.          0.         -0.75        1.25       -1.        ]\n",
      " [ 0.          0.          0.         -0.8         1.2       ]]\n",
      "piv:\n",
      "[0 1 2 3 4]\n",
      "q:\n",
      "[[-0.89442719 -0.35856858 -0.19518001 -0.12309149  0.13483997]\n",
      " [ 0.4472136  -0.71713717 -0.39036003 -0.24618298  0.26967994]\n",
      " [-0.          0.5976143  -0.58554004 -0.36927447  0.40451992]\n",
      " [-0.         -0.          0.68313005 -0.49236596  0.53935989]\n",
      " [-0.         -0.         -0.          0.73854895  0.67419986]]\n",
      "r:\n",
      "[[-2.23606798  1.78885438 -0.4472136   0.          0.        ]\n",
      " [ 0.         -1.67332005  1.91236577 -0.5976143   0.        ]\n",
      " [ 0.          0.         -1.46385011  1.95180015 -0.68313005]\n",
      " [ 0.          0.          0.         -1.3540064   1.96946386]\n",
      " [ 0.          0.          0.          0.          0.80903983]]\n"
     ]
    }
   ],
   "source": [
    "lu, piv = li.lu_factor(c_A)\n",
    "q, r = li.qr(c_A)\n",
    "print(\"1)\", \"lu:\", lu, \"piv:\", piv, sep=\"\\n\")\n",
    "print(\"q:\", q, \"r:\", r, sep=\"\\n\")"
   ]
  },
  {
   "cell_type": "code",
   "execution_count": 10,
   "metadata": {},
   "outputs": [
    {
     "name": "stdout",
     "output_type": "stream",
     "text": [
      "2) c:\n",
      "[[ 1.41421356 -0.70710678  0.          0.          0.        ]\n",
      " [-1.          1.22474487 -0.81649658  0.          0.        ]\n",
      " [ 0.         -1.          1.15470054 -0.8660254   0.        ]\n",
      " [ 0.          0.         -1.          1.11803399 -0.89442719]\n",
      " [ 0.          0.          0.         -1.          1.09544512]]\n"
     ]
    }
   ],
   "source": [
    "c, low = li.cho_factor(c_A)\n",
    "print(\"2) c:\", c, sep=\"\\n\")"
   ]
  },
  {
   "cell_type": "code",
   "execution_count": 11,
   "metadata": {},
   "outputs": [
    {
     "name": "stdout",
     "output_type": "stream",
     "text": [
      "3)\n",
      "решение lu:\n",
      "[ 6.66666667e-01  3.33333333e-01 -8.32667268e-17 -3.33333333e-01\n",
      " -6.66666667e-01]\n",
      "решение qr:\n",
      "[ 0.66666667  0.33333333 -0.         -0.33333333 -0.66666667]\n",
      "решение cholesky:\n",
      "[ 6.66666667e-01  3.33333333e-01  9.61481343e-17 -3.33333333e-01\n",
      " -6.66666667e-01]\n"
     ]
    }
   ],
   "source": [
    "x_lu = li.lu_solve((lu, piv),c_b)\n",
    "Qb = np.matmul(q.T,c_b)\n",
    "x_qr = np.linalg.solve(r,Qb)\n",
    "x_ch = li.cho_solve((c, low), c_b)\n",
    "print(\"3)\", \"решение lu:\", x_lu, \"решение qr:\", x_qr, \"решение cholesky:\", x_ch, sep=\"\\n\")"
   ]
  }
 ],
 "metadata": {
  "kernelspec": {
   "display_name": "Python 3",
   "language": "python",
   "name": "python3"
  },
  "language_info": {
   "codemirror_mode": {
    "name": "ipython",
    "version": 3
   },
   "file_extension": ".py",
   "mimetype": "text/x-python",
   "name": "python",
   "nbconvert_exporter": "python",
   "pygments_lexer": "ipython3",
   "version": "3.10.11"
  }
 },
 "nbformat": 4,
 "nbformat_minor": 2
}
